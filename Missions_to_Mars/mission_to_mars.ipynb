{
 "cells": [
  {
   "cell_type": "code",
   "execution_count": 2,
   "metadata": {},
   "outputs": [],
   "source": [
    "from bs4 import BeautifulSoup\n",
    "from config import chromedriver_path\n",
    "from pprint import pprint\n",
    "from splinter import Browser\n",
    "import pandas as pd\n",
    "import requests"
   ]
  },
  {
   "cell_type": "code",
   "execution_count": 3,
   "metadata": {},
   "outputs": [],
   "source": [
    "executable_path = {'executable_path': chromedriver_path}\n",
    "browser = Browser('chrome', **executable_path, headless=False)"
   ]
  },
  {
   "cell_type": "code",
   "execution_count": 4,
   "metadata": {},
   "outputs": [
    {
     "data": {
      "text/plain": [
       "bs4.BeautifulSoup"
      ]
     },
     "execution_count": 4,
     "metadata": {},
     "output_type": "execute_result"
    }
   ],
   "source": [
    "result = {}\n",
    "url = 'https://mars.nasa.gov/news'\n",
    "browser.visit(url)\n",
    "url = browser.url\n",
    "\n",
    "# Since the page has a redirect to trigger the react.js script, we need to revisit\n",
    "# the page with the parameters it redirects to\n",
    "browser.visit(url)\n",
    "html = browser.html\n",
    "soup = BeautifulSoup(html, 'html.parser')\n",
    "\n",
    "type(soup)"
   ]
  },
  {
   "cell_type": "code",
   "execution_count": 5,
   "metadata": {},
   "outputs": [
    {
     "name": "stdout",
     "output_type": "stream",
     "text": [
      "{'news_p': 'An electronics issue is suspected to be preventing the sensors '\n",
      "           'from sharing their data about Mars weather with the spacecraft.',\n",
      " 'news_title': \"NASA Engineers Checking InSight's Weather Sensors\"}\n"
     ]
    }
   ],
   "source": [
    "# Now we can use the soup to find the elements we need from the browser's inspector\n",
    "item_list = soup.find('ul', class_='item_list')\n",
    "slide = item_list.find('li', class_='slide')\n",
    "list_text = slide.find(class_='list_text')\n",
    "content_title = list_text.find(class_='content_title')\n",
    "article_teaser_body = list_text.find(class_='article_teaser_body')\n",
    "\n",
    "result['news_title'] = content_title.text\n",
    "result['news_p'] = article_teaser_body.text\n",
    "\n",
    "pprint(result)"
   ]
  },
  {
   "cell_type": "code",
   "execution_count": 12,
   "metadata": {},
   "outputs": [
    {
     "name": "stdout",
     "output_type": "stream",
     "text": [
      "{'featured_image_url': 'https://www.jpl.nasa.gov/spaceimages/images/largesize/PIA08097_hires.jpg',\n",
      " 'news_p': 'An electronics issue is suspected to be preventing the sensors '\n",
      "           'from sharing their data about Mars weather with the spacecraft.',\n",
      " 'news_title': \"NASA Engineers Checking InSight's Weather Sensors\"}\n"
     ]
    }
   ],
   "source": [
    "base_url = 'https://www.jpl.nasa.gov'\n",
    "url = base_url + '/spaceimages/?search=&category=Mars'\n",
    "browser.visit(url)\n",
    "html = browser.html\n",
    "soup = BeautifulSoup(html, 'html.parser')\n",
    "\n",
    "main_feature = soup.find('section', class_='main_feature')\n",
    "a = main_feature.find('a', id='full_image')\n",
    "\n",
    "url = base_url + a['data-link']\n",
    "browser.visit(url)\n",
    "html = browser.html\n",
    "soup = BeautifulSoup(html, 'html.parser')\n",
    "\n",
    "img = soup.find('img', class_='main_image')\n",
    "src = img['src']\n",
    "\n",
    "result['featured_image_url'] = base_url + src\n",
    "\n",
    "pprint(result)"
   ]
  },
  {
   "cell_type": "code",
   "execution_count": 22,
   "metadata": {},
   "outputs": [
    {
     "name": "stdout",
     "output_type": "stream",
     "text": [
      "{'facts-table': '<table border=\"1\" class=\"dataframe\">\\n'\n",
      "                '  <thead>\\n'\n",
      "                '    <tr style=\"text-align: right;\">\\n'\n",
      "                '      <th></th>\\n'\n",
      "                '      <th>Term</th>\\n'\n",
      "                '      <th>Description</th>\\n'\n",
      "                '    </tr>\\n'\n",
      "                '  </thead>\\n'\n",
      "                '  <tbody>\\n'\n",
      "                '    <tr>\\n'\n",
      "                '      <th>0</th>\\n'\n",
      "                '      <td>Equatorial Diameter:</td>\\n'\n",
      "                '      <td>6,792 km</td>\\n'\n",
      "                '    </tr>\\n'\n",
      "                '    <tr>\\n'\n",
      "                '      <th>1</th>\\n'\n",
      "                '      <td>Polar Diameter:</td>\\n'\n",
      "                '      <td>6,752 km</td>\\n'\n",
      "                '    </tr>\\n'\n",
      "                '    <tr>\\n'\n",
      "                '      <th>2</th>\\n'\n",
      "                '      <td>Mass:</td>\\n'\n",
      "                '      <td>6.39 × 10^23 kg (0.11 Earths)</td>\\n'\n",
      "                '    </tr>\\n'\n",
      "                '    <tr>\\n'\n",
      "                '      <th>3</th>\\n'\n",
      "                '      <td>Moons:</td>\\n'\n",
      "                '      <td>2 (Phobos &amp; Deimos)</td>\\n'\n",
      "                '    </tr>\\n'\n",
      "                '    <tr>\\n'\n",
      "                '      <th>4</th>\\n'\n",
      "                '      <td>Orbit Distance:</td>\\n'\n",
      "                '      <td>227,943,824 km (1.38 AU)</td>\\n'\n",
      "                '    </tr>\\n'\n",
      "                '    <tr>\\n'\n",
      "                '      <th>5</th>\\n'\n",
      "                '      <td>Orbit Period:</td>\\n'\n",
      "                '      <td>687 days (1.9 years)</td>\\n'\n",
      "                '    </tr>\\n'\n",
      "                '    <tr>\\n'\n",
      "                '      <th>6</th>\\n'\n",
      "                '      <td>Surface Temperature:</td>\\n'\n",
      "                '      <td>-87 to -5 °C</td>\\n'\n",
      "                '    </tr>\\n'\n",
      "                '    <tr>\\n'\n",
      "                '      <th>7</th>\\n'\n",
      "                '      <td>First Record:</td>\\n'\n",
      "                '      <td>2nd millennium BC</td>\\n'\n",
      "                '    </tr>\\n'\n",
      "                '    <tr>\\n'\n",
      "                '      <th>8</th>\\n'\n",
      "                '      <td>Recorded By:</td>\\n'\n",
      "                '      <td>Egyptian astronomers</td>\\n'\n",
      "                '    </tr>\\n'\n",
      "                '  </tbody>\\n'\n",
      "                '</table>',\n",
      " 'featured_image_url': 'https://www.jpl.nasa.gov/spaceimages/images/largesize/PIA08097_hires.jpg',\n",
      " 'news_p': 'An electronics issue is suspected to be preventing the sensors '\n",
      "           'from sharing their data about Mars weather with the spacecraft.',\n",
      " 'news_title': \"NASA Engineers Checking InSight's Weather Sensors\"}\n"
     ]
    }
   ],
   "source": [
    "url = 'https://space-facts.com/mars/'\n",
    "table_dfs = pd.read_html(url)\n",
    "table_df = table_dfs[0]\n",
    "\n",
    "table_df.columns = ['Term', 'Description']\n",
    "table_df.head(10)\n",
    "\n",
    "result['facts-table'] = table_df.to_html()\n",
    "\n",
    "pprint(result)\n"
   ]
  },
  {
   "cell_type": "code",
   "execution_count": 30,
   "metadata": {},
   "outputs": [
    {
     "name": "stdout",
     "output_type": "stream",
     "text": [
      "{'facts-table': '<table border=\"1\" class=\"dataframe\">\\n'\n",
      "                '  <thead>\\n'\n",
      "                '    <tr style=\"text-align: right;\">\\n'\n",
      "                '      <th></th>\\n'\n",
      "                '      <th>Term</th>\\n'\n",
      "                '      <th>Description</th>\\n'\n",
      "                '    </tr>\\n'\n",
      "                '  </thead>\\n'\n",
      "                '  <tbody>\\n'\n",
      "                '    <tr>\\n'\n",
      "                '      <th>0</th>\\n'\n",
      "                '      <td>Equatorial Diameter:</td>\\n'\n",
      "                '      <td>6,792 km</td>\\n'\n",
      "                '    </tr>\\n'\n",
      "                '    <tr>\\n'\n",
      "                '      <th>1</th>\\n'\n",
      "                '      <td>Polar Diameter:</td>\\n'\n",
      "                '      <td>6,752 km</td>\\n'\n",
      "                '    </tr>\\n'\n",
      "                '    <tr>\\n'\n",
      "                '      <th>2</th>\\n'\n",
      "                '      <td>Mass:</td>\\n'\n",
      "                '      <td>6.39 × 10^23 kg (0.11 Earths)</td>\\n'\n",
      "                '    </tr>\\n'\n",
      "                '    <tr>\\n'\n",
      "                '      <th>3</th>\\n'\n",
      "                '      <td>Moons:</td>\\n'\n",
      "                '      <td>2 (Phobos &amp; Deimos)</td>\\n'\n",
      "                '    </tr>\\n'\n",
      "                '    <tr>\\n'\n",
      "                '      <th>4</th>\\n'\n",
      "                '      <td>Orbit Distance:</td>\\n'\n",
      "                '      <td>227,943,824 km (1.38 AU)</td>\\n'\n",
      "                '    </tr>\\n'\n",
      "                '    <tr>\\n'\n",
      "                '      <th>5</th>\\n'\n",
      "                '      <td>Orbit Period:</td>\\n'\n",
      "                '      <td>687 days (1.9 years)</td>\\n'\n",
      "                '    </tr>\\n'\n",
      "                '    <tr>\\n'\n",
      "                '      <th>6</th>\\n'\n",
      "                '      <td>Surface Temperature:</td>\\n'\n",
      "                '      <td>-87 to -5 °C</td>\\n'\n",
      "                '    </tr>\\n'\n",
      "                '    <tr>\\n'\n",
      "                '      <th>7</th>\\n'\n",
      "                '      <td>First Record:</td>\\n'\n",
      "                '      <td>2nd millennium BC</td>\\n'\n",
      "                '    </tr>\\n'\n",
      "                '    <tr>\\n'\n",
      "                '      <th>8</th>\\n'\n",
      "                '      <td>Recorded By:</td>\\n'\n",
      "                '      <td>Egyptian astronomers</td>\\n'\n",
      "                '    </tr>\\n'\n",
      "                '  </tbody>\\n'\n",
      "                '</table>',\n",
      " 'featured_image_url': 'https://www.jpl.nasa.gov/spaceimages/images/largesize/PIA08097_hires.jpg',\n",
      " 'hemisphere_image_urls': [{'img-url': 'https://astrogeology.usgs.gov/cache/images/f5e372a36edfa389625da6d0cc25d905_cerberus_enhanced.tif_full.jpg',\n",
      "                            'title': 'Cerberus Hemisphere'},\n",
      "                           {'img-url': 'https://astrogeology.usgs.gov/cache/images/3778f7b43bbbc89d6e3cfabb3613ba93_schiaparelli_enhanced.tif_full.jpg',\n",
      "                            'title': 'Schiaparelli Hemisphere'},\n",
      "                           {'img-url': 'https://astrogeology.usgs.gov/cache/images/555e6403a6ddd7ba16ddb0e471cadcf7_syrtis_major_enhanced.tif_full.jpg',\n",
      "                            'title': 'Syrtis Major Hemisphere'},\n",
      "                           {'img-url': 'https://astrogeology.usgs.gov/cache/images/b3c7c6c9138f57b4756be9b9c43e3a48_valles_marineris_enhanced.tif_full.jpg',\n",
      "                            'title': 'Valles Marineris Hemisphere'}],\n",
      " 'news_p': 'An electronics issue is suspected to be preventing the sensors '\n",
      "           'from sharing their data about Mars weather with the spacecraft.',\n",
      " 'news_title': \"NASA Engineers Checking InSight's Weather Sensors\"}\n"
     ]
    }
   ],
   "source": [
    "base_url = 'https://astrogeology.usgs.gov'\n",
    "url = base_url + '/search/results?q=hemisphere+enhanced&k1=target&v1=Mars'\n",
    "browser.visit(url)\n",
    "html = browser.html\n",
    "soup = BeautifulSoup(html, 'html.parser')\n",
    "\n",
    "product_section = soup.find(id='product-section')\n",
    "items = product_section.find_all(class_='item')\n",
    "\n",
    "hemisphere_image_urls = []\n",
    "for item in items:\n",
    "    a = item.find('a', class_='itemLink product-item')\n",
    "    link = a['href']\n",
    "        \n",
    "    browser.visit(base_url + link)\n",
    "    soup = BeautifulSoup(browser.html, 'html.parser')\n",
    "    \n",
    "    wide_image = soup.find(id='wide-image')\n",
    "    img = wide_image.find('img', class_='wide-image')\n",
    "    img_src = img['src']\n",
    "    \n",
    "    title = soup.find('h2', class_='title').text\n",
    "    title = title.replace(' Enhanced', '')\n",
    "    \n",
    "    hemisphere_image_urls.append({\n",
    "        'title': title,\n",
    "        'img-url': base_url + img_src\n",
    "    })\n",
    "\n",
    "result['hemisphere_image_urls'] = hemisphere_image_urls\n",
    "\n",
    "pprint(result)"
   ]
  },
  {
   "cell_type": "code",
   "execution_count": null,
   "metadata": {},
   "outputs": [],
   "source": []
  }
 ],
 "metadata": {
  "kernelspec": {
   "display_name": "Python 3",
   "language": "python",
   "name": "python3"
  },
  "language_info": {
   "codemirror_mode": {
    "name": "ipython",
    "version": 3
   },
   "file_extension": ".py",
   "mimetype": "text/x-python",
   "name": "python",
   "nbconvert_exporter": "python",
   "pygments_lexer": "ipython3",
   "version": "3.7.6"
  }
 },
 "nbformat": 4,
 "nbformat_minor": 4
}
